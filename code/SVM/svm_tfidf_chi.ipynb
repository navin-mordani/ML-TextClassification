{
 "cells": [
  {
   "cell_type": "code",
   "execution_count": 1,
   "metadata": {
    "collapsed": true
   },
   "outputs": [],
   "source": [
    "import nltk\n",
    "from nltk.corpus import stopwords\n",
    "from stemming.porter2 import stem\n",
    "import re\n",
    "\n",
    "def splitText(text):\n",
    "     #split text by spaces and all symbols.\n",
    "    word_list = re.findall(r\"[\\w']+\", text)\n",
    "    word_list = [re.sub(r\"\\w*[\\d]+\\w*\", 'Numxyzabcd',s) for s in word_list]\n",
    "    return word_list\n",
    "\n",
    "def removeStopWords(word_list):\n",
    "    \"\"\" Removes stop words from text \"\"\"\n",
    "    \n",
    "    cachedStopWords = set(stopwords.words(\"english\"))    \n",
    "    filtered_words = [w for w in word_list if not w in cachedStopWords]    \n",
    "    return filtered_words\n",
    "\n",
    "def stemWords(word_list):\n",
    "    stemmedWords = [stem(w) for w in word_list]\n",
    "    return stemmedWords\n",
    "\n",
    "def preProcessData(abstract):\n",
    "    #preprocessing: stopword removal and stemming       \n",
    "    word_list = splitText(abstract)\n",
    "    word_list = removeStopWords(word_list)\n",
    "    word_list = stemWords(word_list)\n",
    "    return ' '.join(word_list)\n"
   ]
  },
  {
   "cell_type": "code",
   "execution_count": 2,
   "metadata": {
    "collapsed": false
   },
   "outputs": [
    {
     "name": "stdout",
     "output_type": "stream",
     "text": [
      "Fitting 2 folds for each of 4 candidates, totalling 8 fits\n"
     ]
    },
    {
     "name": "stderr",
     "output_type": "stream",
     "text": [
      "/usr/local/lib/python2.7/dist-packages/sklearn/model_selection/_split.py:579: Warning: The least populated class in y has only 1 members, which is too few. The minimum number of groups for any class cannot be less than n_splits=2.\n",
      "  % (min_groups, self.n_splits)), Warning)\n"
     ]
    },
    {
     "name": "stdout",
     "output_type": "stream",
     "text": [
      "[CV] svc__gamma=1e-05 ................................................\n",
      "[CV] svc__gamma=1e-05 ................................................\n",
      "[CV] svc__gamma=0.00464158883361 .....................................\n",
      "[CV] svc__gamma=0.00464158883361 .....................................\n",
      "[CV] svc__gamma=2.15443469003 ........................................\n",
      "[CV] svc__gamma=2.15443469003 ........................................\n",
      "[CV] svc__gamma=1000.0 ...............................................\n",
      "[CV] svc__gamma=1000.0 ...............................................\n",
      "[CV] ............ svc__gamma=0.00464158883361, score=0.884790 -38.9min\n",
      "[CV] ............ svc__gamma=0.00464158883361, score=0.883539 -39.6min\n",
      "[CV] ....................... svc__gamma=1e-05, score=0.318019 -55.9min\n",
      "[CV] ....................... svc__gamma=1e-05, score=0.318018 -55.8min\n"
     ]
    },
    {
     "name": "stderr",
     "output_type": "stream",
     "text": [
      "[Parallel(n_jobs=64)]: Done   4 out of   8 | elapsed: 210.3min remaining: 210.3min\n"
     ]
    },
    {
     "name": "stdout",
     "output_type": "stream",
     "text": [
      "[CV] ............... svc__gamma=2.15443469003, score=0.906309 -24.8min\n",
      "[CV] ............... svc__gamma=2.15443469003, score=0.905399 -25.3min\n",
      "[CV] ...................... svc__gamma=1000.0, score=0.318950 -15.9min\n",
      "[CV] ...................... svc__gamma=1000.0, score=0.319231 -16.1min\n"
     ]
    },
    {
     "name": "stderr",
     "output_type": "stream",
     "text": [
      "[Parallel(n_jobs=64)]: Done   8 out of   8 | elapsed: 396.8min finished\n"
     ]
    },
    {
     "name": "stdout",
     "output_type": "stream",
     "text": [
      "Best score: 0.906\n",
      "Best parameters set:\n",
      "\tsvc__gamma: 2.154434690031882\n",
      "[ 0.31801836  0.88416466  0.90585382  0.31909013]\n",
      "[ 0.31801836  0.89295033  0.99919618  0.99919618]\n"
     ]
    }
   ],
   "source": [
    "import pickle\n",
    "import numpy as np\n",
    "from sklearn.pipeline import Pipeline\n",
    "from sklearn.model_selection import GridSearchCV\n",
    "from sklearn.feature_selection import SelectKBest\n",
    "from sklearn.feature_selection import chi2\n",
    "from sklearn.model_selection import ShuffleSplit\n",
    "from sklearn import svm\n",
    "from sklearn.feature_extraction.text import TfidfTransformer\n",
    "\n",
    "x_train = pickle.load(open('../../data/x_train_freq.pkl',\"rb\"))\n",
    "y_train = pickle.load(open('../../data/y_train.pkl',\"rb\"))\n",
    "\n",
    "\n",
    "pipeline = Pipeline([\n",
    "    ('tfidf', TfidfTransformer(smooth_idf=True)),\n",
    "    ('selectk', SelectKBest(score_func=chi2, k=30000)), \n",
    "    ('svc', svm.SVC(kernel='rbf', C=5)),        \n",
    "])\n",
    "\n",
    "parameters = {\n",
    "    #'pca__n_components': (100, 1000, 5000, 10000, 20000),\n",
    "   #'svc__C': np.logspace(1,3,3),\n",
    "    'svc__gamma':np.logspace(-5,3,4)\n",
    "}\n",
    "\n",
    "\n",
    "if __name__ == \"__main__\": #important for parallel processing with n_jobs\n",
    "    #cv_split = ShuffleSplit(n_splits=1, test_size=0.3, random_state=0)\n",
    "    gridSearchEst = GridSearchCV(pipeline, parameters, n_jobs=64, verbose=3, error_score=0, cv=2)\n",
    "    gridSearchEst.fit(x_train, y_train)\n",
    "    \n",
    "    print(\"Best score: %0.3f\" % gridSearchEst.best_score_)\n",
    "    print(\"Best parameters set:\")\n",
    "    best_parameters = gridSearchEst.best_estimator_.get_params()\n",
    "    for param_name in sorted(parameters.keys()):\n",
    "        print(\"\\t%s: %r\" % (param_name, best_parameters[param_name]))\n",
    "    \n",
    "    print(gridSearchEst.cv_results_['mean_test_score'])\n",
    "    print(gridSearchEst.cv_results_['mean_train_score'])\n",
    "    \n",
    "pickle.dump(gridSearchEst.best_estimator_, open('data/fittedGridSearchEstimator.pkl',\"wb\"))    \n",
    "pickle.dump(gridSearchEst.cv_results_, open('data/cvResults.pkl',\"wb\"))"
   ]
  },
  {
   "cell_type": "markdown",
   "metadata": {},
   "source": [
    "## Step 4: Run on test set"
   ]
  },
  {
   "cell_type": "code",
   "execution_count": 12,
   "metadata": {
    "collapsed": false
   },
   "outputs": [],
   "source": [
    "import pandas as pd\n",
    "import pickle\n",
    "import numpy as np\n",
    "\n",
    "#load estimators (vectoriser, label encoder, grid search)\n",
    "bestEstimator = pickle.load(open('data/fittedGridSearchEstimator.pkl',\"rb\"))\n",
    "\n",
    "#load test data\n",
    "x_test = pickle.load(open('../../data/x_test_freq.pkl',\"rb\"))\n",
    "y_test = pickle.load(open('../../data/y_test.pkl',\"rb\"))\n",
    "\n",
    "#execute learner estimator (grid search)\n",
    "y_test_pred = bestEstimator.predict(x_test)\n",
    "\n",
    "accuracy = sum(y_test_pred == y_test) / float(len(y_test))\n",
    "accuracy"
   ]
  },
  {
   "cell_type": "code",
   "execution_count": 3,
   "metadata": {
    "collapsed": false
   },
   "outputs": [
    {
     "data": {
      "text/plain": [
       "1"
      ]
     },
     "execution_count": 3,
     "metadata": {},
     "output_type": "execute_result"
    }
   ],
   "source": [
    "1"
   ]
  },
  {
   "cell_type": "code",
   "execution_count": null,
   "metadata": {
    "collapsed": false
   },
   "outputs": [],
   "source": []
  },
  {
   "cell_type": "code",
   "execution_count": 4,
   "metadata": {
    "collapsed": false
   },
   "outputs": [
    {
     "data": {
      "text/plain": [
       "17.75"
      ]
     },
     "execution_count": 4,
     "metadata": {},
     "output_type": "execute_result"
    }
   ],
   "source": []
  },
  {
   "cell_type": "code",
   "execution_count": 5,
   "metadata": {
    "collapsed": false
   },
   "outputs": [
    {
     "data": {
      "text/plain": [
       "16"
      ]
     },
     "execution_count": 5,
     "metadata": {},
     "output_type": "execute_result"
    }
   ],
   "source": []
  },
  {
   "cell_type": "code",
   "execution_count": null,
   "metadata": {
    "collapsed": true
   },
   "outputs": [],
   "source": []
  }
 ],
 "metadata": {
  "kernelspec": {
   "display_name": "Python 2",
   "language": "python",
   "name": "python2"
  },
  "language_info": {
   "codemirror_mode": {
    "name": "ipython",
    "version": 2
   },
   "file_extension": ".py",
   "mimetype": "text/x-python",
   "name": "python",
   "nbconvert_exporter": "python",
   "pygments_lexer": "ipython2",
   "version": "2.7.12"
  }
 },
 "nbformat": 4,
 "nbformat_minor": 1
}
